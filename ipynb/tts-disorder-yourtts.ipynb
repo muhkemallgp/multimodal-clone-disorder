{
 "cells": [
  {
   "cell_type": "code",
   "execution_count": 1,
   "id": "85a6f65b",
   "metadata": {},
   "outputs": [
    {
     "name": "stdout",
     "output_type": "stream",
     "text": [
      "/home/is/lathifgalih-k/miniconda3/envs/yourtts/bin/python\n"
     ]
    }
   ],
   "source": [
    "import sys\n",
    "print(sys.executable)"
   ]
  },
  {
   "cell_type": "code",
   "execution_count": 2,
   "id": "47064f11",
   "metadata": {},
   "outputs": [
    {
     "data": {
      "text/plain": [
       "'/home/is/lathifgalih-k/research_naist/multimodal-clone/ipynb'"
      ]
     },
     "execution_count": 2,
     "metadata": {},
     "output_type": "execute_result"
    }
   ],
   "source": [
    "import os\n",
    "os.getcwd()\n",
    "\n",
    "# %cd .."
   ]
  },
  {
   "cell_type": "markdown",
   "id": "9f7d9d8e",
   "metadata": {},
   "source": [
    "#### Setup YourTTS"
   ]
  },
  {
   "cell_type": "code",
   "execution_count": null,
   "id": "e5c8e821",
   "metadata": {},
   "outputs": [],
   "source": []
  }
 ],
 "metadata": {
  "kernelspec": {
   "display_name": "yourtts",
   "language": "python",
   "name": "python3"
  },
  "language_info": {
   "codemirror_mode": {
    "name": "ipython",
    "version": 3
   },
   "file_extension": ".py",
   "mimetype": "text/x-python",
   "name": "python",
   "nbconvert_exporter": "python",
   "pygments_lexer": "ipython3",
   "version": "3.10.18"
  }
 },
 "nbformat": 4,
 "nbformat_minor": 5
}
